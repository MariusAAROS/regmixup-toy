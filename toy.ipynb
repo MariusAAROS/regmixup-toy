{
 "cells": [
  {
   "cell_type": "code",
   "execution_count": 1,
   "metadata": {},
   "outputs": [],
   "source": [
    "from torch_uncertainty import cli_main, init_args\n",
    "from torch_uncertainty.baselines.classification import ResNet\n",
    "from torch_uncertainty.optimization_procedures import optim_cifar10_resnet18\n",
    "from torch_uncertainty.routines.classification import ClassificationSingle\n",
    "from torch_uncertainty.datamodules import CIFAR10DataModule\n",
    "import torch_uncertainty.losses\n",
    "from torchvision.datasets import CIFAR10\n",
    "from torchvision import transforms\n",
    "from torch.nn import CrossEntropyLoss\n",
    "from pytorch_lightning import Trainer\n",
    "import torch\n",
    "\n",
    "import os\n",
    "import sys\n",
    "from pathlib import Path\n",
    "from cli_test_helpers import ArgvContext"
   ]
  },
  {
   "cell_type": "code",
   "execution_count": 2,
   "metadata": {},
   "outputs": [
    {
     "data": {
      "text/plain": [
       "True"
      ]
     },
     "execution_count": 2,
     "metadata": {},
     "output_type": "execute_result"
    }
   ],
   "source": [
    "torch.cuda.is_available()"
   ]
  },
  {
   "cell_type": "markdown",
   "metadata": {},
   "source": [
    "### 1 - Models"
   ]
  },
  {
   "cell_type": "code",
   "execution_count": 4,
   "metadata": {},
   "outputs": [],
   "source": [
    "baseline = ResNet(num_classes=10,\n",
    "                loss=CrossEntropyLoss,\n",
    "                optimization_procedure=optim_cifar10_resnet18,\n",
    "                version=\"std\",\n",
    "                in_channels=3, \n",
    "                arch=18)\n",
    "\n",
    "mixup = ResNet(num_classes=10,\n",
    "                loss=CrossEntropyLoss,\n",
    "                optimization_procedure=optim_cifar10_resnet18,\n",
    "                version=\"std\",\n",
    "                in_channels=3, \n",
    "                arch=18, \n",
    "                mixup=True,\n",
    "                mixup_alpha=0.2)\n",
    "\n",
    "regmixup = ResNet(num_classes=10,\n",
    "                loss=CrossEntropyLoss,\n",
    "                optimization_procedure=optim_cifar10_resnet18,\n",
    "                version=\"std\",\n",
    "                in_channels=3,\n",
    "                arch=18,\n",
    "                reg_mixup=True,\n",
    "                mixup_alpha=15)"
   ]
  },
  {
   "cell_type": "markdown",
   "metadata": {},
   "source": [
    "### 2 - Data"
   ]
  },
  {
   "cell_type": "code",
   "execution_count": 5,
   "metadata": {},
   "outputs": [
    {
     "name": "stdout",
     "output_type": "stream",
     "text": [
      "Files already downloaded and verified\n",
      "Files already downloaded and verified\n"
     ]
    }
   ],
   "source": [
    "transform = transforms.Compose([transforms.ToTensor(),\n",
    "                                transforms.Normalize((0.5, 0.5, 0.5), (0.5, 0.5, 0.5))])\n",
    "batch_size = 4\n",
    "\n",
    "trainset = CIFAR10(root='./data', train=True, download=True, transform=transform)\n",
    "trainloader = torch.utils.data.DataLoader(trainset, batch_size=batch_size, shuffle=True, num_workers=2)\n",
    "\n",
    "testset = CIFAR10(root='./data', train=False, download=True, transform=transform)\n",
    "testloader = torch.utils.data.DataLoader(testset, batch_size=batch_size, shuffle=False, num_workers=2)\n",
    "\n",
    "classes = ('plane', 'car', 'bird', 'cat', 'deer', 'dog', 'frog', 'horse', 'ship', 'truck')"
   ]
  },
  {
   "cell_type": "markdown",
   "metadata": {},
   "source": [
    "### 3. Training"
   ]
  },
  {
   "cell_type": "code",
   "execution_count": 6,
   "metadata": {},
   "outputs": [],
   "source": [
    "root = Path(os.path.abspath(\"\"))\n",
    "\n",
    "# We mock the arguments for the trainer\n",
    "with ArgvContext(\n",
    "    \"file.py\",\n",
    "    \"--max_epochs\",\n",
    "    \"1\",\n",
    "    \"--enable_progress_bar\",\n",
    "    \"False\",\n",
    "    \"--num_estimators\",\n",
    "    \"8\",\n",
    "    \"--max_epochs\",\n",
    "    \"2\"\n",
    "):\n",
    "    args = init_args(network=ResNet, datamodule=CIFAR10DataModule)\n",
    "\n",
    "net_name = \"logs/reset18-cifar10\"\n",
    "\n",
    "# datamodule\n",
    "args.root = str(root / \"data\")\n",
    "dm = CIFAR10DataModule(**vars(args))\n"
   ]
  },
  {
   "cell_type": "code",
   "execution_count": null,
   "metadata": {},
   "outputs": [],
   "source": [
    "#Trainer(accelerator=\"gpu\", devices=1)\n",
    "results = cli_main(baseline, dm, root, net_name, args=args)"
   ]
  }
 ],
 "metadata": {
  "kernelspec": {
   "display_name": "regmixup_venv",
   "language": "python",
   "name": "python3"
  },
  "language_info": {
   "codemirror_mode": {
    "name": "ipython",
    "version": 3
   },
   "file_extension": ".py",
   "mimetype": "text/x-python",
   "name": "python",
   "nbconvert_exporter": "python",
   "pygments_lexer": "ipython3",
   "version": "3.11.3"
  }
 },
 "nbformat": 4,
 "nbformat_minor": 2
}
