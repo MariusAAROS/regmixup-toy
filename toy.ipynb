{
 "cells": [
  {
   "cell_type": "code",
   "execution_count": 19,
   "metadata": {},
   "outputs": [],
   "source": [
    "from torch_uncertainty import cli_main, init_args\n",
    "from torch_uncertainty.baselines.classification import ResNet\n",
    "from torch_uncertainty.optimization_procedures import optim_cifar10_resnet18\n",
    "from torch_uncertainty.datamodules import CIFAR10DataModule\n",
    "from torchvision.datasets import CIFAR10\n",
    "from torchvision import transforms\n",
    "from torch.nn import CrossEntropyLoss\n",
    "import torch\n",
    "\n",
    "import os\n",
    "import pandas as pd\n",
    "from pathlib import Path\n",
    "from cli_test_helpers import ArgvContext"
   ]
  },
  {
   "cell_type": "code",
   "execution_count": 20,
   "metadata": {},
   "outputs": [
    {
     "data": {
      "text/plain": [
       "True"
      ]
     },
     "execution_count": 20,
     "metadata": {},
     "output_type": "execute_result"
    }
   ],
   "source": [
    "torch.cuda.is_available()"
   ]
  },
  {
   "cell_type": "markdown",
   "metadata": {},
   "source": [
    "### 1 - Models"
   ]
  },
  {
   "cell_type": "code",
   "execution_count": 21,
   "metadata": {},
   "outputs": [],
   "source": [
    "baseline = ResNet(num_classes=10,\n",
    "                loss=CrossEntropyLoss,\n",
    "                optimization_procedure=optim_cifar10_resnet18,\n",
    "                version=\"std\",\n",
    "                in_channels=3, \n",
    "                arch=18,\n",
    "                mixup=False,\n",
    "                regmixup=False).cuda()\n",
    "\n",
    "mixup = ResNet(num_classes=10,\n",
    "                loss=CrossEntropyLoss,\n",
    "                optimization_procedure=optim_cifar10_resnet18,\n",
    "                version=\"std\",\n",
    "                in_channels=3, \n",
    "                arch=18, \n",
    "                mixup=True,\n",
    "                mixup_alpha=0.2).cuda()\n",
    "\n",
    "regmixup = ResNet(num_classes=10,\n",
    "                loss=CrossEntropyLoss,\n",
    "                optimization_procedure=optim_cifar10_resnet18,\n",
    "                version=\"std\",\n",
    "                in_channels=3,\n",
    "                arch=18,\n",
    "                reg_mixup=True,\n",
    "                mixup_alpha=15).cuda()"
   ]
  },
  {
   "cell_type": "markdown",
   "metadata": {},
   "source": [
    "### 2 - Data"
   ]
  },
  {
   "cell_type": "code",
   "execution_count": 22,
   "metadata": {},
   "outputs": [
    {
     "name": "stdout",
     "output_type": "stream",
     "text": [
      "Files already downloaded and verified\n",
      "Files already downloaded and verified\n"
     ]
    }
   ],
   "source": [
    "transform = transforms.Compose([transforms.ToTensor(),\n",
    "                                transforms.Normalize((0.5, 0.5, 0.5), (0.5, 0.5, 0.5))])\n",
    "batch_size = 4\n",
    "\n",
    "trainset = CIFAR10(root='./data', train=True, download=True, transform=transform)\n",
    "trainloader = torch.utils.data.DataLoader(trainset, batch_size=batch_size, shuffle=True, num_workers=2)\n",
    "\n",
    "testset = CIFAR10(root='./data', train=False, download=True, transform=transform)\n",
    "testloader = torch.utils.data.DataLoader(testset, batch_size=batch_size, shuffle=False, num_workers=2)\n",
    "\n",
    "classes = ('plane', 'car', 'bird', 'cat', 'deer', 'dog', 'frog', 'horse', 'ship', 'truck')"
   ]
  },
  {
   "cell_type": "markdown",
   "metadata": {},
   "source": [
    "### 3. Training"
   ]
  },
  {
   "cell_type": "code",
   "execution_count": 23,
   "metadata": {},
   "outputs": [],
   "source": [
    "root = Path(os.path.abspath(\"\"))\n",
    "\n",
    "# We mock the arguments for the trainer\n",
    "with ArgvContext(\n",
    "    \"file.py\",\n",
    "    \"--max_epochs\",\n",
    "    \"20\",\n",
    "    \"--enable_progress_bar\",\n",
    "    \"False\",\n",
    "    \"--num_estimators\",\n",
    "    \"8\"\n",
    "):\n",
    "    args = init_args(network=ResNet, datamodule=CIFAR10DataModule)\n",
    "\n",
    "args.corruption_severity = 40\n",
    "net_name = \"logs/reset18-cifar10\"\n",
    "\n",
    "# datamodule\n",
    "args.root = str(root / \"data\")\n",
    "dm = CIFAR10DataModule(**vars(args))\n"
   ]
  },
  {
   "cell_type": "code",
   "execution_count": 24,
   "metadata": {},
   "outputs": [
    {
     "name": "stderr",
     "output_type": "stream",
     "text": [
      "GPU available: True (cuda), used: True\n",
      "TPU available: False, using: 0 TPU cores\n",
      "IPU available: False, using: 0 IPUs\n",
      "HPU available: False, using: 0 HPUs\n"
     ]
    },
    {
     "name": "stdout",
     "output_type": "stream",
     "text": [
      "Files already downloaded and verified\n",
      "Files already downloaded and verified\n"
     ]
    },
    {
     "name": "stderr",
     "output_type": "stream",
     "text": [
      "You are using a CUDA device ('NVIDIA GeForce RTX 3060 Ti') that has Tensor Cores. To properly utilize them, you should set `torch.set_float32_matmul_precision('medium' | 'high')` which will trade-off precision for performance. For more details, read https://pytorch.org/docs/stable/generated/torch.set_float32_matmul_precision.html#torch.set_float32_matmul_precision\n",
      "LOCAL_RANK: 0 - CUDA_VISIBLE_DEVICES: [0]\n",
      "\n",
      "  | Name             | Type             | Params\n",
      "------------------------------------------------------\n",
      "0 | model            | _ResNet          | 11.2 M\n",
      "1 | format_batch_fn  | Identity         | 0     \n",
      "2 | val_cls_metrics  | MetricCollection | 0     \n",
      "3 | test_cls_metrics | MetricCollection | 0     \n",
      "4 | test_entropy_id  | Entropy          | 0     \n",
      "------------------------------------------------------\n",
      "11.2 M    Trainable params\n",
      "0         Non-trainable params\n",
      "11.2 M    Total params\n",
      "44.727    Total estimated model params size (MB)\n",
      "`Trainer.fit` stopped: `max_epochs=20` reached.\n"
     ]
    },
    {
     "name": "stdout",
     "output_type": "stream",
     "text": [
      "Files already downloaded and verified\n",
      "Files already downloaded and verified\n"
     ]
    },
    {
     "name": "stderr",
     "output_type": "stream",
     "text": [
      "You are using a CUDA device ('NVIDIA GeForce RTX 3060 Ti') that has Tensor Cores. To properly utilize them, you should set `torch.set_float32_matmul_precision('medium' | 'high')` which will trade-off precision for performance. For more details, read https://pytorch.org/docs/stable/generated/torch.set_float32_matmul_precision.html#torch.set_float32_matmul_precision\n",
      "Restoring states from the checkpoint path at d:\\COURS\\A5\\Responsible AI\\Code\\logs/reset18-cifar10\\version_29\\checkpoints\\epoch=15-step=6256.ckpt\n",
      "LOCAL_RANK: 0 - CUDA_VISIBLE_DEVICES: [0]\n",
      "Loaded model weights from checkpoint at d:\\COURS\\A5\\Responsible AI\\Code\\logs/reset18-cifar10\\version_29\\checkpoints\\epoch=15-step=6256.ckpt\n"
     ]
    },
    {
     "name": "stdout",
     "output_type": "stream",
     "text": [
      "────────────────────────────────────────────────────────────────────────────────────────────────────────────────────────\n",
      "Runningstage.testing metric      DataLoader 0\n",
      "────────────────────────────────────────────────────────────────────────────────────────────────────────────────────────\n",
      "      cls_test/acc          0.7494999766349792\n",
      "     cls_test/brier         0.35027873516082764\n",
      "      cls_test/ece          0.03469502925872803\n",
      "    cls_test/entropy        0.6254900693893433\n",
      "      cls_test/nll           0.741416871547699\n",
      "────────────────────────────────────────────────────────────────────────────────────────────────────────────────────────\n"
     ]
    }
   ],
   "source": [
    "#Trainer(accelerator=\"gpu\", devices=1)\n",
    "results_baseline = cli_main(baseline, dm, root, net_name, args=args)"
   ]
  },
  {
   "cell_type": "code",
   "execution_count": 25,
   "metadata": {},
   "outputs": [
    {
     "name": "stderr",
     "output_type": "stream",
     "text": [
      "GPU available: True (cuda), used: True\n",
      "TPU available: False, using: 0 TPU cores\n",
      "IPU available: False, using: 0 IPUs\n",
      "HPU available: False, using: 0 HPUs\n"
     ]
    },
    {
     "name": "stdout",
     "output_type": "stream",
     "text": [
      "Files already downloaded and verified\n",
      "Files already downloaded and verified\n"
     ]
    },
    {
     "name": "stderr",
     "output_type": "stream",
     "text": [
      "You are using a CUDA device ('NVIDIA GeForce RTX 3060 Ti') that has Tensor Cores. To properly utilize them, you should set `torch.set_float32_matmul_precision('medium' | 'high')` which will trade-off precision for performance. For more details, read https://pytorch.org/docs/stable/generated/torch.set_float32_matmul_precision.html#torch.set_float32_matmul_precision\n",
      "LOCAL_RANK: 0 - CUDA_VISIBLE_DEVICES: [0]\n",
      "\n",
      "  | Name             | Type             | Params\n",
      "------------------------------------------------------\n",
      "0 | model            | _ResNet          | 11.2 M\n",
      "1 | format_batch_fn  | Identity         | 0     \n",
      "2 | val_cls_metrics  | MetricCollection | 0     \n",
      "3 | test_cls_metrics | MetricCollection | 0     \n",
      "4 | test_entropy_id  | Entropy          | 0     \n",
      "------------------------------------------------------\n",
      "11.2 M    Trainable params\n",
      "0         Non-trainable params\n",
      "11.2 M    Total params\n",
      "44.727    Total estimated model params size (MB)\n",
      "`Trainer.fit` stopped: `max_epochs=20` reached.\n"
     ]
    },
    {
     "name": "stdout",
     "output_type": "stream",
     "text": [
      "Files already downloaded and verified\n",
      "Files already downloaded and verified\n"
     ]
    },
    {
     "name": "stderr",
     "output_type": "stream",
     "text": [
      "You are using a CUDA device ('NVIDIA GeForce RTX 3060 Ti') that has Tensor Cores. To properly utilize them, you should set `torch.set_float32_matmul_precision('medium' | 'high')` which will trade-off precision for performance. For more details, read https://pytorch.org/docs/stable/generated/torch.set_float32_matmul_precision.html#torch.set_float32_matmul_precision\n",
      "Restoring states from the checkpoint path at d:\\COURS\\A5\\Responsible AI\\Code\\logs/reset18-cifar10\\version_30\\checkpoints\\epoch=18-step=7429.ckpt\n",
      "LOCAL_RANK: 0 - CUDA_VISIBLE_DEVICES: [0]\n",
      "Loaded model weights from checkpoint at d:\\COURS\\A5\\Responsible AI\\Code\\logs/reset18-cifar10\\version_30\\checkpoints\\epoch=18-step=7429.ckpt\n"
     ]
    },
    {
     "name": "stdout",
     "output_type": "stream",
     "text": [
      "────────────────────────────────────────────────────────────────────────────────────────────────────────────────────────\n",
      "Runningstage.testing metric      DataLoader 0\n",
      "────────────────────────────────────────────────────────────────────────────────────────────────────────────────────────\n",
      "      cls_test/acc          0.7577000260353088\n",
      "     cls_test/brier         0.3386794626712799\n",
      "      cls_test/ece         0.027453485876321793\n",
      "    cls_test/entropy        0.6478248834609985\n",
      "      cls_test/nll           0.704408586025238\n",
      "────────────────────────────────────────────────────────────────────────────────────────────────────────────────────────\n"
     ]
    }
   ],
   "source": [
    "results_mixup = cli_main(mixup, dm, root, net_name, args=args)"
   ]
  },
  {
   "cell_type": "code",
   "execution_count": 26,
   "metadata": {},
   "outputs": [
    {
     "name": "stderr",
     "output_type": "stream",
     "text": [
      "GPU available: True (cuda), used: True\n",
      "TPU available: False, using: 0 TPU cores\n",
      "IPU available: False, using: 0 IPUs\n",
      "HPU available: False, using: 0 HPUs\n"
     ]
    },
    {
     "name": "stdout",
     "output_type": "stream",
     "text": [
      "Files already downloaded and verified\n",
      "Files already downloaded and verified\n"
     ]
    },
    {
     "name": "stderr",
     "output_type": "stream",
     "text": [
      "You are using a CUDA device ('NVIDIA GeForce RTX 3060 Ti') that has Tensor Cores. To properly utilize them, you should set `torch.set_float32_matmul_precision('medium' | 'high')` which will trade-off precision for performance. For more details, read https://pytorch.org/docs/stable/generated/torch.set_float32_matmul_precision.html#torch.set_float32_matmul_precision\n",
      "LOCAL_RANK: 0 - CUDA_VISIBLE_DEVICES: [0]\n",
      "\n",
      "  | Name             | Type             | Params\n",
      "------------------------------------------------------\n",
      "0 | model            | _ResNet          | 11.2 M\n",
      "1 | format_batch_fn  | Identity         | 0     \n",
      "2 | val_cls_metrics  | MetricCollection | 0     \n",
      "3 | test_cls_metrics | MetricCollection | 0     \n",
      "4 | test_entropy_id  | Entropy          | 0     \n",
      "------------------------------------------------------\n",
      "11.2 M    Trainable params\n",
      "0         Non-trainable params\n",
      "11.2 M    Total params\n",
      "44.727    Total estimated model params size (MB)\n",
      "`Trainer.fit` stopped: `max_epochs=20` reached.\n"
     ]
    },
    {
     "name": "stdout",
     "output_type": "stream",
     "text": [
      "Files already downloaded and verified\n",
      "Files already downloaded and verified\n"
     ]
    },
    {
     "name": "stderr",
     "output_type": "stream",
     "text": [
      "You are using a CUDA device ('NVIDIA GeForce RTX 3060 Ti') that has Tensor Cores. To properly utilize them, you should set `torch.set_float32_matmul_precision('medium' | 'high')` which will trade-off precision for performance. For more details, read https://pytorch.org/docs/stable/generated/torch.set_float32_matmul_precision.html#torch.set_float32_matmul_precision\n",
      "Restoring states from the checkpoint path at d:\\COURS\\A5\\Responsible AI\\Code\\logs/reset18-cifar10\\version_31\\checkpoints\\epoch=19-step=7820.ckpt\n",
      "LOCAL_RANK: 0 - CUDA_VISIBLE_DEVICES: [0]\n",
      "Loaded model weights from checkpoint at d:\\COURS\\A5\\Responsible AI\\Code\\logs/reset18-cifar10\\version_31\\checkpoints\\epoch=19-step=7820.ckpt\n"
     ]
    },
    {
     "name": "stdout",
     "output_type": "stream",
     "text": [
      "────────────────────────────────────────────────────────────────────────────────────────────────────────────────────────\n",
      "Runningstage.testing metric      DataLoader 0\n",
      "────────────────────────────────────────────────────────────────────────────────────────────────────────────────────────\n",
      "      cls_test/acc          0.7498999834060669\n",
      "     cls_test/brier         0.35079556703567505\n",
      "      cls_test/ece          0.04187669977545738\n",
      "    cls_test/entropy        0.6246733665466309\n",
      "      cls_test/nll          0.7313908934593201\n",
      "────────────────────────────────────────────────────────────────────────────────────────────────────────────────────────\n"
     ]
    }
   ],
   "source": [
    "results_regmixup = cli_main(regmixup, dm, root, net_name, args=args)"
   ]
  },
  {
   "cell_type": "code",
   "execution_count": 27,
   "metadata": {},
   "outputs": [
    {
     "data": {
      "text/html": [
       "<div>\n",
       "<style scoped>\n",
       "    .dataframe tbody tr th:only-of-type {\n",
       "        vertical-align: middle;\n",
       "    }\n",
       "\n",
       "    .dataframe tbody tr th {\n",
       "        vertical-align: top;\n",
       "    }\n",
       "\n",
       "    .dataframe thead th {\n",
       "        text-align: right;\n",
       "    }\n",
       "</style>\n",
       "<table border=\"1\" class=\"dataframe\">\n",
       "  <thead>\n",
       "    <tr style=\"text-align: right;\">\n",
       "      <th></th>\n",
       "      <th>entropy</th>\n",
       "      <th>accuracy</th>\n",
       "      <th>brier</th>\n",
       "      <th>ece</th>\n",
       "      <th>nll</th>\n",
       "    </tr>\n",
       "  </thead>\n",
       "  <tbody>\n",
       "    <tr>\n",
       "      <th>baseline</th>\n",
       "      <td>0.625490</td>\n",
       "      <td>0.7495</td>\n",
       "      <td>0.350279</td>\n",
       "      <td>0.034695</td>\n",
       "      <td>0.741417</td>\n",
       "    </tr>\n",
       "    <tr>\n",
       "      <th>mixup</th>\n",
       "      <td>0.647825</td>\n",
       "      <td>0.7577</td>\n",
       "      <td>0.338679</td>\n",
       "      <td>0.027453</td>\n",
       "      <td>0.704409</td>\n",
       "    </tr>\n",
       "    <tr>\n",
       "      <th>regmixup</th>\n",
       "      <td>0.624673</td>\n",
       "      <td>0.7499</td>\n",
       "      <td>0.350796</td>\n",
       "      <td>0.041877</td>\n",
       "      <td>0.731391</td>\n",
       "    </tr>\n",
       "  </tbody>\n",
       "</table>\n",
       "</div>"
      ],
      "text/plain": [
       "           entropy  accuracy     brier       ece       nll\n",
       "baseline  0.625490    0.7495  0.350279  0.034695  0.741417\n",
       "mixup     0.647825    0.7577  0.338679  0.027453  0.704409\n",
       "regmixup  0.624673    0.7499  0.350796  0.041877  0.731391"
      ]
     },
     "execution_count": 27,
     "metadata": {},
     "output_type": "execute_result"
    }
   ],
   "source": [
    "results = pd.DataFrame([results_baseline[0], results_mixup[0], results_regmixup[0]])\n",
    "results.index = [\"baseline\", \"mixup\", \"regmixup\"]\n",
    "results.columns = [\"entropy\", \"accuracy\", \"brier\", \"ece\", \"nll\"]\n",
    "results"
   ]
  }
 ],
 "metadata": {
  "kernelspec": {
   "display_name": "regmixup_venv",
   "language": "python",
   "name": "python3"
  },
  "language_info": {
   "codemirror_mode": {
    "name": "ipython",
    "version": 3
   },
   "file_extension": ".py",
   "mimetype": "text/x-python",
   "name": "python",
   "nbconvert_exporter": "python",
   "pygments_lexer": "ipython3",
   "version": "3.11.3"
  }
 },
 "nbformat": 4,
 "nbformat_minor": 2
}
