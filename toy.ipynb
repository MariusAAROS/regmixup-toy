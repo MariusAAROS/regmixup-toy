{
 "cells": [
  {
   "cell_type": "code",
   "execution_count": 1,
   "metadata": {},
   "outputs": [],
   "source": [
    "from torch_uncertainty import cli_main, init_args\n",
    "from torch_uncertainty.baselines.classification import ResNet\n",
    "from torch_uncertainty.optimization_procedures import optim_cifar10_resnet18\n",
    "from torch_uncertainty.datamodules import CIFAR10DataModule\n",
    "from torchvision.datasets import CIFAR10\n",
    "from torchvision import transforms\n",
    "from torch.nn import CrossEntropyLoss\n",
    "import torch\n",
    "\n",
    "import os\n",
    "from pathlib import Path\n",
    "from cli_test_helpers import ArgvContext"
   ]
  },
  {
   "cell_type": "code",
   "execution_count": 2,
   "metadata": {},
   "outputs": [
    {
     "data": {
      "text/plain": [
       "True"
      ]
     },
     "execution_count": 2,
     "metadata": {},
     "output_type": "execute_result"
    }
   ],
   "source": [
    "torch.cuda.is_available()"
   ]
  },
  {
   "cell_type": "markdown",
   "metadata": {},
   "source": [
    "### 1 - Models"
   ]
  },
  {
   "cell_type": "code",
   "execution_count": 3,
   "metadata": {},
   "outputs": [],
   "source": [
    "baseline = ResNet(num_classes=10,\n",
    "                loss=CrossEntropyLoss,\n",
    "                optimization_procedure=optim_cifar10_resnet18,\n",
    "                version=\"std\",\n",
    "                in_channels=3, \n",
    "                arch=18).cuda()\n",
    "\n",
    "mixup = ResNet(num_classes=10,\n",
    "                loss=CrossEntropyLoss,\n",
    "                optimization_procedure=optim_cifar10_resnet18,\n",
    "                version=\"std\",\n",
    "                in_channels=3, \n",
    "                arch=18, \n",
    "                mixup=True,\n",
    "                mixup_alpha=0.2).cuda()\n",
    "\n",
    "regmixup = ResNet(num_classes=10,\n",
    "                loss=CrossEntropyLoss,\n",
    "                optimization_procedure=optim_cifar10_resnet18,\n",
    "                version=\"std\",\n",
    "                in_channels=3,\n",
    "                arch=18,\n",
    "                reg_mixup=True,\n",
    "                mixup_alpha=15).cuda()"
   ]
  },
  {
   "cell_type": "markdown",
   "metadata": {},
   "source": [
    "### 2 - Data"
   ]
  },
  {
   "cell_type": "code",
   "execution_count": 4,
   "metadata": {},
   "outputs": [
    {
     "name": "stdout",
     "output_type": "stream",
     "text": [
      "Files already downloaded and verified\n",
      "Files already downloaded and verified\n"
     ]
    }
   ],
   "source": [
    "transform = transforms.Compose([transforms.ToTensor(),\n",
    "                                transforms.Normalize((0.5, 0.5, 0.5), (0.5, 0.5, 0.5))])\n",
    "batch_size = 4\n",
    "\n",
    "trainset = CIFAR10(root='./data', train=True, download=True, transform=transform)\n",
    "trainloader = torch.utils.data.DataLoader(trainset, batch_size=batch_size, shuffle=True, num_workers=2)\n",
    "\n",
    "testset = CIFAR10(root='./data', train=False, download=True, transform=transform)\n",
    "testloader = torch.utils.data.DataLoader(testset, batch_size=batch_size, shuffle=False, num_workers=2)\n",
    "\n",
    "classes = ('plane', 'car', 'bird', 'cat', 'deer', 'dog', 'frog', 'horse', 'ship', 'truck')"
   ]
  },
  {
   "cell_type": "markdown",
   "metadata": {},
   "source": [
    "### 3. Training"
   ]
  },
  {
   "cell_type": "code",
   "execution_count": 9,
   "metadata": {},
   "outputs": [],
   "source": [
    "root = Path(os.path.abspath(\"\"))\n",
    "\n",
    "# We mock the arguments for the trainer\n",
    "with ArgvContext(\n",
    "    \"file.py\",\n",
    "    \"--max_epochs\",\n",
    "    \"20\",\n",
    "    \"--enable_progress_bar\",\n",
    "    \"False\",\n",
    "    \"--num_estimators\",\n",
    "    \"8\"\n",
    "):\n",
    "    args = init_args(network=ResNet, datamodule=CIFAR10DataModule)\n",
    "\n",
    "net_name = \"logs/reset18-cifar10\"\n",
    "\n",
    "# datamodule\n",
    "args.root = str(root / \"data\")\n",
    "dm = CIFAR10DataModule(**vars(args))\n"
   ]
  },
  {
   "cell_type": "code",
   "execution_count": 10,
   "metadata": {},
   "outputs": [
    {
     "name": "stderr",
     "output_type": "stream",
     "text": [
      "GPU available: True (cuda), used: True\n",
      "TPU available: False, using: 0 TPU cores\n",
      "IPU available: False, using: 0 IPUs\n",
      "HPU available: False, using: 0 HPUs\n"
     ]
    },
    {
     "name": "stdout",
     "output_type": "stream",
     "text": [
      "Files already downloaded and verified\n",
      "Files already downloaded and verified\n"
     ]
    },
    {
     "name": "stderr",
     "output_type": "stream",
     "text": [
      "You are using a CUDA device ('NVIDIA GeForce RTX 3060 Ti') that has Tensor Cores. To properly utilize them, you should set `torch.set_float32_matmul_precision('medium' | 'high')` which will trade-off precision for performance. For more details, read https://pytorch.org/docs/stable/generated/torch.set_float32_matmul_precision.html#torch.set_float32_matmul_precision\n",
      "LOCAL_RANK: 0 - CUDA_VISIBLE_DEVICES: [0]\n",
      "\n",
      "  | Name             | Type             | Params\n",
      "------------------------------------------------------\n",
      "0 | model            | _ResNet          | 11.2 M\n",
      "1 | format_batch_fn  | Identity         | 0     \n",
      "2 | val_cls_metrics  | MetricCollection | 0     \n",
      "3 | test_cls_metrics | MetricCollection | 0     \n",
      "4 | test_entropy_id  | Entropy          | 0     \n",
      "------------------------------------------------------\n",
      "11.2 M    Trainable params\n",
      "0         Non-trainable params\n",
      "11.2 M    Total params\n",
      "44.727    Total estimated model params size (MB)\n",
      "`Trainer.fit` stopped: `max_epochs=20` reached.\n"
     ]
    },
    {
     "name": "stdout",
     "output_type": "stream",
     "text": [
      "Files already downloaded and verified\n",
      "Files already downloaded and verified\n"
     ]
    },
    {
     "name": "stderr",
     "output_type": "stream",
     "text": [
      "You are using a CUDA device ('NVIDIA GeForce RTX 3060 Ti') that has Tensor Cores. To properly utilize them, you should set `torch.set_float32_matmul_precision('medium' | 'high')` which will trade-off precision for performance. For more details, read https://pytorch.org/docs/stable/generated/torch.set_float32_matmul_precision.html#torch.set_float32_matmul_precision\n",
      "Restoring states from the checkpoint path at d:\\COURS\\A5\\Responsible AI\\Code\\logs/reset18-cifar10\\version_10\\checkpoints\\epoch=16-step=6647.ckpt\n",
      "LOCAL_RANK: 0 - CUDA_VISIBLE_DEVICES: [0]\n",
      "Loaded model weights from checkpoint at d:\\COURS\\A5\\Responsible AI\\Code\\logs/reset18-cifar10\\version_10\\checkpoints\\epoch=16-step=6647.ckpt\n"
     ]
    },
    {
     "name": "stdout",
     "output_type": "stream",
     "text": [
      "────────────────────────────────────────────────────────────────────────────────────────────────────────────────────────\n",
      "Runningstage.testing metric      DataLoader 0\n",
      "────────────────────────────────────────────────────────────────────────────────────────────────────────────────────────\n",
      "      cls_test/acc          0.7439000010490417\n",
      "     cls_test/brier         0.3573360741138458\n",
      "      cls_test/ece         0.033778075128793716\n",
      "    cls_test/entropy        0.6558901071548462\n",
      "      cls_test/nll          0.7499282956123352\n",
      "────────────────────────────────────────────────────────────────────────────────────────────────────────────────────────\n"
     ]
    }
   ],
   "source": [
    "#Trainer(accelerator=\"gpu\", devices=1)\n",
    "results = cli_main(baseline, dm, root, net_name, args=args)"
   ]
  },
  {
   "cell_type": "code",
   "execution_count": 11,
   "metadata": {},
   "outputs": [
    {
     "name": "stderr",
     "output_type": "stream",
     "text": [
      "GPU available: True (cuda), used: True\n",
      "TPU available: False, using: 0 TPU cores\n",
      "IPU available: False, using: 0 IPUs\n",
      "HPU available: False, using: 0 HPUs\n"
     ]
    },
    {
     "name": "stdout",
     "output_type": "stream",
     "text": [
      "Files already downloaded and verified\n",
      "Files already downloaded and verified\n"
     ]
    },
    {
     "name": "stderr",
     "output_type": "stream",
     "text": [
      "You are using a CUDA device ('NVIDIA GeForce RTX 3060 Ti') that has Tensor Cores. To properly utilize them, you should set `torch.set_float32_matmul_precision('medium' | 'high')` which will trade-off precision for performance. For more details, read https://pytorch.org/docs/stable/generated/torch.set_float32_matmul_precision.html#torch.set_float32_matmul_precision\n",
      "LOCAL_RANK: 0 - CUDA_VISIBLE_DEVICES: [0]\n",
      "\n",
      "  | Name             | Type             | Params\n",
      "------------------------------------------------------\n",
      "0 | model            | _ResNet          | 11.2 M\n",
      "1 | format_batch_fn  | Identity         | 0     \n",
      "2 | val_cls_metrics  | MetricCollection | 0     \n",
      "3 | test_cls_metrics | MetricCollection | 0     \n",
      "4 | test_entropy_id  | Entropy          | 0     \n",
      "------------------------------------------------------\n",
      "11.2 M    Trainable params\n",
      "0         Non-trainable params\n",
      "11.2 M    Total params\n",
      "44.727    Total estimated model params size (MB)\n",
      "`Trainer.fit` stopped: `max_epochs=20` reached.\n"
     ]
    },
    {
     "name": "stdout",
     "output_type": "stream",
     "text": [
      "Files already downloaded and verified\n",
      "Files already downloaded and verified\n"
     ]
    },
    {
     "name": "stderr",
     "output_type": "stream",
     "text": [
      "You are using a CUDA device ('NVIDIA GeForce RTX 3060 Ti') that has Tensor Cores. To properly utilize them, you should set `torch.set_float32_matmul_precision('medium' | 'high')` which will trade-off precision for performance. For more details, read https://pytorch.org/docs/stable/generated/torch.set_float32_matmul_precision.html#torch.set_float32_matmul_precision\n",
      "Restoring states from the checkpoint path at d:\\COURS\\A5\\Responsible AI\\Code\\logs/reset18-cifar10\\version_11\\checkpoints\\epoch=19-step=7820.ckpt\n",
      "LOCAL_RANK: 0 - CUDA_VISIBLE_DEVICES: [0]\n",
      "Loaded model weights from checkpoint at d:\\COURS\\A5\\Responsible AI\\Code\\logs/reset18-cifar10\\version_11\\checkpoints\\epoch=19-step=7820.ckpt\n"
     ]
    },
    {
     "name": "stdout",
     "output_type": "stream",
     "text": [
      "────────────────────────────────────────────────────────────────────────────────────────────────────────────────────────\n",
      "Runningstage.testing metric      DataLoader 0\n",
      "────────────────────────────────────────────────────────────────────────────────────────────────────────────────────────\n",
      "      cls_test/acc          0.7475000023841858\n",
      "     cls_test/brier         0.35359084606170654\n",
      "      cls_test/ece          0.05278158560395241\n",
      "    cls_test/entropy        0.5841179490089417\n",
      "      cls_test/nll          0.7453628778457642\n",
      "────────────────────────────────────────────────────────────────────────────────────────────────────────────────────────\n"
     ]
    }
   ],
   "source": [
    "results = cli_main(mixup, dm, root, net_name, args=args)"
   ]
  },
  {
   "cell_type": "code",
   "execution_count": 13,
   "metadata": {},
   "outputs": [
    {
     "name": "stderr",
     "output_type": "stream",
     "text": [
      "GPU available: True (cuda), used: True\n",
      "TPU available: False, using: 0 TPU cores\n",
      "IPU available: False, using: 0 IPUs\n",
      "HPU available: False, using: 0 HPUs\n"
     ]
    },
    {
     "name": "stdout",
     "output_type": "stream",
     "text": [
      "Files already downloaded and verified\n",
      "Files already downloaded and verified\n"
     ]
    },
    {
     "name": "stderr",
     "output_type": "stream",
     "text": [
      "You are using a CUDA device ('NVIDIA GeForce RTX 3060 Ti') that has Tensor Cores. To properly utilize them, you should set `torch.set_float32_matmul_precision('medium' | 'high')` which will trade-off precision for performance. For more details, read https://pytorch.org/docs/stable/generated/torch.set_float32_matmul_precision.html#torch.set_float32_matmul_precision\n",
      "LOCAL_RANK: 0 - CUDA_VISIBLE_DEVICES: [0]\n",
      "\n",
      "  | Name             | Type             | Params\n",
      "------------------------------------------------------\n",
      "0 | model            | _ResNet          | 11.2 M\n",
      "1 | format_batch_fn  | Identity         | 0     \n",
      "2 | val_cls_metrics  | MetricCollection | 0     \n",
      "3 | test_cls_metrics | MetricCollection | 0     \n",
      "4 | test_entropy_id  | Entropy          | 0     \n",
      "------------------------------------------------------\n",
      "11.2 M    Trainable params\n",
      "0         Non-trainable params\n",
      "11.2 M    Total params\n",
      "44.727    Total estimated model params size (MB)\n",
      "`Trainer.fit` stopped: `max_epochs=20` reached.\n"
     ]
    },
    {
     "name": "stdout",
     "output_type": "stream",
     "text": [
      "Files already downloaded and verified\n",
      "Files already downloaded and verified\n"
     ]
    },
    {
     "name": "stderr",
     "output_type": "stream",
     "text": [
      "You are using a CUDA device ('NVIDIA GeForce RTX 3060 Ti') that has Tensor Cores. To properly utilize them, you should set `torch.set_float32_matmul_precision('medium' | 'high')` which will trade-off precision for performance. For more details, read https://pytorch.org/docs/stable/generated/torch.set_float32_matmul_precision.html#torch.set_float32_matmul_precision\n",
      "Restoring states from the checkpoint path at d:\\COURS\\A5\\Responsible AI\\Code\\logs/reset18-cifar10\\version_13\\checkpoints\\epoch=12-step=5083.ckpt\n",
      "LOCAL_RANK: 0 - CUDA_VISIBLE_DEVICES: [0]\n",
      "Loaded model weights from checkpoint at d:\\COURS\\A5\\Responsible AI\\Code\\logs/reset18-cifar10\\version_13\\checkpoints\\epoch=12-step=5083.ckpt\n"
     ]
    },
    {
     "name": "stdout",
     "output_type": "stream",
     "text": [
      "────────────────────────────────────────────────────────────────────────────────────────────────────────────────────────\n",
      "Runningstage.testing metric      DataLoader 0\n",
      "────────────────────────────────────────────────────────────────────────────────────────────────────────────────────────\n",
      "      cls_test/acc          0.7820000052452087\n",
      "     cls_test/brier         0.3092312216758728\n",
      "      cls_test/ece          0.02364463172852993\n",
      "    cls_test/entropy         0.590100884437561\n",
      "      cls_test/nll          0.6474164128303528\n",
      "────────────────────────────────────────────────────────────────────────────────────────────────────────────────────────\n"
     ]
    }
   ],
   "source": [
    "results = cli_main(regmixup, dm, root, net_name, args=args)"
   ]
  }
 ],
 "metadata": {
  "kernelspec": {
   "display_name": "regmixup_venv",
   "language": "python",
   "name": "python3"
  },
  "language_info": {
   "codemirror_mode": {
    "name": "ipython",
    "version": 3
   },
   "file_extension": ".py",
   "mimetype": "text/x-python",
   "name": "python",
   "nbconvert_exporter": "python",
   "pygments_lexer": "ipython3",
   "version": "3.11.3"
  }
 },
 "nbformat": 4,
 "nbformat_minor": 2
}
